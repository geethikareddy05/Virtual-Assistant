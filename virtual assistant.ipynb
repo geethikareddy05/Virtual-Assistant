{
 "cells": [
  {
   "cell_type": "code",
   "execution_count": 7,
   "id": "200f08d5-8ef2-4a04-bc41-3cb027ffa6ba",
   "metadata": {},
   "outputs": [
    {
     "name": "stdout",
     "output_type": "stream",
     "text": [
      "Requirement already satisfied: SpeechRecognition in c:\\users\\komma keerthana\\anaconda3\\lib\\site-packages (3.10.4)Note: you may need to restart the kernel to use updated packages.\n",
      "\n",
      "Requirement already satisfied: requests>=2.26.0 in c:\\users\\komma keerthana\\anaconda3\\lib\\site-packages (from SpeechRecognition) (2.32.2)\n",
      "Requirement already satisfied: typing-extensions in c:\\users\\komma keerthana\\anaconda3\\lib\\site-packages (from SpeechRecognition) (4.11.0)\n",
      "Requirement already satisfied: charset-normalizer<4,>=2 in c:\\users\\komma keerthana\\anaconda3\\lib\\site-packages (from requests>=2.26.0->SpeechRecognition) (2.0.4)\n",
      "Requirement already satisfied: idna<4,>=2.5 in c:\\users\\komma keerthana\\anaconda3\\lib\\site-packages (from requests>=2.26.0->SpeechRecognition) (3.7)\n",
      "Requirement already satisfied: urllib3<3,>=1.21.1 in c:\\users\\komma keerthana\\anaconda3\\lib\\site-packages (from requests>=2.26.0->SpeechRecognition) (2.2.2)\n",
      "Requirement already satisfied: certifi>=2017.4.17 in c:\\users\\komma keerthana\\anaconda3\\lib\\site-packages (from requests>=2.26.0->SpeechRecognition) (2024.6.2)\n"
     ]
    }
   ],
   "source": [
    "#pip install SpeechRecognition"
   ]
  },
  {
   "cell_type": "code",
   "execution_count": 8,
   "id": "5b400ac3-2070-499c-bed2-62d1883b8be2",
   "metadata": {},
   "outputs": [
    {
     "name": "stdout",
     "output_type": "stream",
     "text": [
      "Requirement already satisfied: pyaudio in c:\\users\\komma keerthana\\anaconda3\\lib\\site-packages (0.2.14)\n",
      "Note: you may need to restart the kernel to use updated packages.\n"
     ]
    }
   ],
   "source": [
    "#pip install pyaudio"
   ]
  },
  {
   "cell_type": "code",
   "execution_count": 9,
   "id": "7ac3aec6-b16a-4d38-b06b-e1e2b4bcbb3f",
   "metadata": {},
   "outputs": [
    {
     "name": "stdout",
     "output_type": "stream",
     "text": [
      "Requirement already satisfied: playsound in c:\\users\\komma keerthana\\anaconda3\\lib\\site-packages (1.3.0)\n",
      "Note: you may need to restart the kernel to use updated packages.\n"
     ]
    }
   ],
   "source": [
    "#pip install playsound"
   ]
  },
  {
   "cell_type": "code",
   "execution_count": 10,
   "id": "90d57c56-50cb-4932-b76f-06f9a7568da5",
   "metadata": {},
   "outputs": [
    {
     "name": "stdout",
     "output_type": "stream",
     "text": [
      "Requirement already satisfied: gTTs in c:\\users\\komma keerthana\\anaconda3\\lib\\site-packages (2.5.2)\n",
      "Requirement already satisfied: requests<3,>=2.27 in c:\\users\\komma keerthana\\anaconda3\\lib\\site-packages (from gTTs) (2.32.2)\n",
      "Requirement already satisfied: click<8.2,>=7.1 in c:\\users\\komma keerthana\\anaconda3\\lib\\site-packages (from gTTs) (8.1.7)\n",
      "Requirement already satisfied: colorama in c:\\users\\komma keerthana\\anaconda3\\lib\\site-packages (from click<8.2,>=7.1->gTTs) (0.4.6)\n",
      "Requirement already satisfied: charset-normalizer<4,>=2 in c:\\users\\komma keerthana\\anaconda3\\lib\\site-packages (from requests<3,>=2.27->gTTs) (2.0.4)\n",
      "Requirement already satisfied: idna<4,>=2.5 in c:\\users\\komma keerthana\\anaconda3\\lib\\site-packages (from requests<3,>=2.27->gTTs) (3.7)\n",
      "Requirement already satisfied: urllib3<3,>=1.21.1 in c:\\users\\komma keerthana\\anaconda3\\lib\\site-packages (from requests<3,>=2.27->gTTs) (2.2.2)\n",
      "Requirement already satisfied: certifi>=2017.4.17 in c:\\users\\komma keerthana\\anaconda3\\lib\\site-packages (from requests<3,>=2.27->gTTs) (2024.6.2)\n",
      "Note: you may need to restart the kernel to use updated packages.\n"
     ]
    }
   ],
   "source": [
    "#pip install gTTs"
   ]
  },
  {
   "cell_type": "code",
   "execution_count": 1,
   "id": "141bc679-ad40-4f55-90f9-89dbc0783b09",
   "metadata": {},
   "outputs": [
    {
     "name": "stdout",
     "output_type": "stream",
     "text": [
      "Start talking\n",
      "I cannot hear you\n",
      "Timedout\n"
     ]
    }
   ],
   "source": [
    "#Building Virtual Assistant using Python\n",
    "\n",
    "import gtts\n",
    "#print(dir(gtts))\n",
    "from gtts import gTTS\n",
    "#Write the text what you want to convert to speech\n",
    "text = gTTS(\"Hello Everyone\")\n",
    "#print(text)\n",
    "#save the above text in an audio file\n",
    "text.save(\"first.mp3\")\n",
    "\n",
    "from gtts import gTTS\n",
    "import speech_recognition as sr\n",
    "import playsound\n",
    "from time import ctime\n",
    "import os\n",
    "import re\n",
    "import uuid #It's an identification number that will uniquely identify something. \n",
    "#The idea being that id number will be universally unique\n",
    "import smtplib\n",
    "import webbrowser\n",
    "from tkinter import *\n",
    "from tkinter import ttk\n",
    "#to make sure it listens\n",
    "global data\n",
    "def listen():\n",
    "    r = sr.Recognizer()\n",
    "    with sr.Microphone() as source:\n",
    "        print(\"Start talking\") #own statement\n",
    "        audio = r.listen(source,phrase_time_limit=5)\n",
    "    data = \"\"\n",
    "    #Exception Handling\n",
    "    try:\n",
    "        data = r.recognize_google(audio,language='en-US')\n",
    "        print(\"You said:\"+data)\n",
    "    except sr.UnknownValueError:\n",
    "        print(\"I cannot hear you\")\n",
    "    except sr.RequestError as e:\n",
    "        print(\"Request Failed\")\n",
    "    return data\n",
    "#listen()\n",
    "\n",
    "#To respond back with audio \n",
    "def respond(String):\n",
    "    print(String)\n",
    "    tts = gTTS(text = String,lang = 'en-US')\n",
    "    tts.save(\"speech.mp3\")\n",
    "    filename = \"Speech%s.mp3\"%str(uuid.uuid4())\n",
    "    tts.save(filename)\n",
    "    playsound.playsound(filename)\n",
    "    os.remove(filename)\n",
    "\n",
    "#Giving actions to our Virtual Assistant\n",
    "#Virtual Assistant actions\n",
    "def virtual_assistant(data):\n",
    "    \"\"\"give your actions\"\"\"\n",
    "    if \"how are you\" in data:\n",
    "        listening = True\n",
    "        entry1['text']=\"Good and doing well\"\n",
    "        root.update()\n",
    "        respond(\"Good and doing well\")\n",
    "\n",
    "    if \"time\" in data:\n",
    "        listening = True\n",
    "        entry1['text']=ctime()\n",
    "        root.update()\n",
    "        respond(ctime())\n",
    "    \n",
    "    if \"open google\" in data.casefold():\n",
    "        listening = True\n",
    "        reg_ex = re.search('open google(.*)',data)\n",
    "        url = \"https://www.google.com/\"\n",
    "        if reg_ex:\n",
    "            sub = reg_ex.group(1)\n",
    "            url = url + 'r/'\n",
    "        entry1['text']='Openning google'\n",
    "        root.update()\n",
    "        respond('Openning google')\n",
    "        webbrowser.open(url)\n",
    "\n",
    "    if \"locate\" in data:\n",
    "        webbrowser.open('https://www.google.com/maps/search/'+\n",
    "                        data.replace(\"locate\",\"\"))\n",
    "        result = \"Located\"\n",
    "        entry1['text']='Located'\n",
    "        root.update()\n",
    "        respond(\"Located {}\".format(data.replace(\"locate\",\"\")))\n",
    "\n",
    "    if \"email\" in data:\n",
    "        listening = True\n",
    "        entry1['text']=\"Whom should i send email to?\"\n",
    "        root.update()\n",
    "        respond(\"Whom should i send email to?\")\n",
    "        to = listen()\n",
    "        edict = {'hello':'','new':''} #give mail ids\n",
    "        toaddr = edict[to]\n",
    "        entry1['text']=\"What is the Subject?\"\n",
    "        root.update()\n",
    "        respond(\"What is the Subject?\")\n",
    "        subject = listen()\n",
    "        entry1['text']=\"What should i tell that person?\"\n",
    "        root.update()\n",
    "        respond(\"What should i tell that person?\")\n",
    "        message = listen()\n",
    "        content = 'Subject :{}\\n\\n{}'.format(subject,message)\n",
    "\n",
    "        #init gmail SMTP\n",
    "        mail = smtplib.SMTP('smtp.gmail.com',587)\n",
    "        #identify the server\n",
    "        mail.ehlo()\n",
    "        mail.starttls()\n",
    "        #login\n",
    "        mail.login('','') #enter mailid and app password make sure you enable less secure app access\n",
    "        mail.sendmail('',toaddr,content) #enter your gmail username\n",
    "        mail.close()\n",
    "        entry1['text']='Email Sent'\n",
    "        root.update()\n",
    "        respond('Email Sent')\n",
    "\n",
    "    if \"search google\" in data.casefold():\n",
    "        listening = True\n",
    "        reg_ex = re.search('search google(.*)',data.casefold())\n",
    "        print(data)\n",
    "        url = \"https://www.google.com/search?q=\"\n",
    "        if reg_ex:\n",
    "            sub = reg_ex.group(1)\n",
    "            print(sub,type(sub))\n",
    "        webbrowser.open(url + sub)\n",
    "        result = \"Success\"\n",
    "        entry1['text']=\"Search for {} complete\".format(sub)\n",
    "        root.update()\n",
    "        respond(\"Search for {} complete\".format(sub))\n",
    "\n",
    "    if \"stop\" in data:\n",
    "        listening =False\n",
    "        print(\"Listening Stopped\")\n",
    "        entry1['text']=\"Okay done take care...\"\n",
    "        root.update()\n",
    "        respond(\"Okay done take care...\")\n",
    "        root.destroy()\n",
    "\n",
    "    try:\n",
    "        return listening\n",
    "    except UnboundLocalError:\n",
    "        print(\"Timedout\")\n",
    "def final():\n",
    "    data = listen()\n",
    "    entry1['text']=data\n",
    "    root.update()\n",
    "    virtual_assistant(data)\n",
    "root = Tk() #change TK() to Toplevel() if not works\n",
    "root.title('Virtual Assistant')\n",
    "root.iconbitmap('mic.ico')\n",
    "style = ttk.Style()\n",
    "style.theme_use('winnative')\n",
    "photo = PhotoImage(file='microphone.png').subsample(17,17)\n",
    "entry1 = Label(root,text='Hey Codegnan How are you',bg='white',fg='black',height=2,width=75,font=('callibri',13,'bold'))\n",
    "entry1.pack(side=LEFT)\n",
    "MyButton6 = Button(root,image=photo, bd=0,command=final,activebackground='#c1bfbf', overrelief='groove', relief='sunken')\n",
    "MyButton6.pack(side=RIGHT)\n",
    "root.geometry('800x250')\n",
    "root.resizable(False,False)\n",
    "root.mainloop()"
   ]
  },
  {
   "cell_type": "code",
   "execution_count": null,
   "id": "eeceec92-a169-4786-93b3-30a32083b250",
   "metadata": {},
   "outputs": [],
   "source": []
  },
  {
   "cell_type": "code",
   "execution_count": null,
   "id": "33fdb12f-7128-4c9c-9b87-bb994b1c9aaf",
   "metadata": {},
   "outputs": [],
   "source": []
  },
  {
   "cell_type": "code",
   "execution_count": null,
   "id": "ab926b38-9e5d-4916-b57f-e0ed6942ef4f",
   "metadata": {},
   "outputs": [],
   "source": []
  },
  {
   "cell_type": "code",
   "execution_count": null,
   "id": "5a66457c-0bd4-4305-bc7c-62df1f1e76a5",
   "metadata": {},
   "outputs": [],
   "source": []
  },
  {
   "cell_type": "code",
   "execution_count": null,
   "id": "540fe66d-d70d-40c7-805d-51e4d811a217",
   "metadata": {},
   "outputs": [],
   "source": []
  },
  {
   "cell_type": "code",
   "execution_count": null,
   "id": "ae5ab1d7-4ce5-43c0-b4bf-d121179819d1",
   "metadata": {},
   "outputs": [],
   "source": []
  },
  {
   "cell_type": "code",
   "execution_count": null,
   "id": "4d79b8c7-e2cb-4984-94ea-07f98b052c2c",
   "metadata": {},
   "outputs": [],
   "source": []
  },
  {
   "cell_type": "code",
   "execution_count": null,
   "id": "aef2022f-ea64-4585-b2d8-31fe7e6a9875",
   "metadata": {},
   "outputs": [],
   "source": []
  },
  {
   "cell_type": "code",
   "execution_count": null,
   "id": "d097796e-2214-43a4-9d6a-6ef52045e135",
   "metadata": {},
   "outputs": [],
   "source": []
  },
  {
   "cell_type": "code",
   "execution_count": null,
   "id": "fb8e4353-ca83-4790-874d-80cdf39f6a1b",
   "metadata": {},
   "outputs": [],
   "source": []
  },
  {
   "cell_type": "code",
   "execution_count": null,
   "id": "b9dd4a48-7df4-454b-9ad9-655736c9b13c",
   "metadata": {},
   "outputs": [],
   "source": []
  },
  {
   "cell_type": "code",
   "execution_count": null,
   "id": "d4c3223d-4a7e-43db-b9df-0ec579492624",
   "metadata": {},
   "outputs": [],
   "source": []
  },
  {
   "cell_type": "code",
   "execution_count": null,
   "id": "7fe70245-dc02-4e01-bc40-a9ff44361ac9",
   "metadata": {},
   "outputs": [],
   "source": []
  },
  {
   "cell_type": "code",
   "execution_count": null,
   "id": "4aa9acf3-1d74-4ceb-b533-58272f6c39bf",
   "metadata": {},
   "outputs": [],
   "source": []
  },
  {
   "cell_type": "code",
   "execution_count": null,
   "id": "bbea645b-540a-4466-8b66-e2f9c00cb801",
   "metadata": {},
   "outputs": [],
   "source": []
  },
  {
   "cell_type": "code",
   "execution_count": null,
   "id": "093168ed-5226-4a1e-9d44-85939f132711",
   "metadata": {},
   "outputs": [],
   "source": []
  },
  {
   "cell_type": "code",
   "execution_count": null,
   "id": "0f5ed512-e21d-4124-9fbb-85c5f1ba8f17",
   "metadata": {},
   "outputs": [],
   "source": []
  },
  {
   "cell_type": "code",
   "execution_count": null,
   "id": "d7eaee27-b173-4249-8504-de733277c9e0",
   "metadata": {},
   "outputs": [],
   "source": []
  },
  {
   "cell_type": "code",
   "execution_count": null,
   "id": "d98ef654-bc7a-422e-951f-208d889634b6",
   "metadata": {},
   "outputs": [],
   "source": []
  },
  {
   "cell_type": "code",
   "execution_count": null,
   "id": "866cbb27-8a62-4eb8-9446-fdcdf2a46ee7",
   "metadata": {},
   "outputs": [],
   "source": []
  },
  {
   "cell_type": "code",
   "execution_count": null,
   "id": "3525ffbb-de18-497b-8cb9-84bd9cef4e51",
   "metadata": {},
   "outputs": [],
   "source": []
  },
  {
   "cell_type": "code",
   "execution_count": null,
   "id": "e60071ac-fb3d-46d4-b44d-c700393f967a",
   "metadata": {},
   "outputs": [],
   "source": []
  },
  {
   "cell_type": "code",
   "execution_count": null,
   "id": "85277a16-ac60-46a0-808f-483b0f3b40bc",
   "metadata": {},
   "outputs": [],
   "source": []
  },
  {
   "cell_type": "code",
   "execution_count": null,
   "id": "bf7bb565-24dd-49f4-8e66-c9376cb157e9",
   "metadata": {},
   "outputs": [],
   "source": []
  },
  {
   "cell_type": "code",
   "execution_count": null,
   "id": "74c7c4d8-efb4-4848-af92-fdf4dca66e6b",
   "metadata": {},
   "outputs": [],
   "source": []
  },
  {
   "cell_type": "code",
   "execution_count": null,
   "id": "eb0eb7d9-925e-4776-82d0-713202696241",
   "metadata": {},
   "outputs": [],
   "source": []
  },
  {
   "cell_type": "code",
   "execution_count": null,
   "id": "610bc99f-7f0f-4f38-a00f-8faeff968e06",
   "metadata": {},
   "outputs": [],
   "source": []
  },
  {
   "cell_type": "code",
   "execution_count": null,
   "id": "46063855-3b27-4bfe-b0ae-bb79805ab907",
   "metadata": {},
   "outputs": [],
   "source": []
  },
  {
   "cell_type": "code",
   "execution_count": null,
   "id": "e49ec3f1-ce92-46e7-b7b1-c238eefd0f58",
   "metadata": {},
   "outputs": [],
   "source": []
  },
  {
   "cell_type": "code",
   "execution_count": null,
   "id": "5b5cee7a-b324-42ee-aa6f-f2a207d64a07",
   "metadata": {},
   "outputs": [],
   "source": []
  }
 ],
 "metadata": {
  "kernelspec": {
   "display_name": "Python 3 (ipykernel)",
   "language": "python",
   "name": "python3"
  },
  "language_info": {
   "codemirror_mode": {
    "name": "ipython",
    "version": 3
   },
   "file_extension": ".py",
   "mimetype": "text/x-python",
   "name": "python",
   "nbconvert_exporter": "python",
   "pygments_lexer": "ipython3",
   "version": "3.12.4"
  }
 },
 "nbformat": 4,
 "nbformat_minor": 5
}
